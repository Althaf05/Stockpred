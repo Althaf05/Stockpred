{
 "cells": [
  {
   "cell_type": "code",
   "execution_count": 24,
   "id": "6453eef7",
   "metadata": {},
   "outputs": [],
   "source": [
    "import numpy as np\n",
    "import pandas as pd\n",
    "import datetime as dt\n",
    "import matplotlib.pyplot as plt\n",
    "import pandas_datareader as data\n",
    "import pandas_datareader.data as data\n",
    "\n"
   ]
  },
  {
   "cell_type": "code",
   "execution_count": 25,
   "id": "e487b165",
   "metadata": {},
   "outputs": [],
   "source": [
    "import yfinance as yf"
   ]
  },
  {
   "cell_type": "code",
   "execution_count": null,
   "id": "5d6df502",
   "metadata": {},
   "outputs": [],
   "source": [
    "start = '2010-01-01'\n",
    "end = dt.datetime.now()\n",
    "\n",
    "try:\n",
    "    msft = yf.Ticker('MSFT')\n",
    "    df = msft.history(period='1d', start=start, end=end)\n",
    "    df.reset_index(inplace=True)\n",
    "    df.head()\n",
    "except Exception as e:\n",
    "    print(f\"An error occurred: {e}\")"
   ]
  },
  {
   "cell_type": "code",
   "execution_count": 27,
   "id": "f86146fd",
   "metadata": {},
   "outputs": [
    {
     "data": {
      "text/html": [
       "<div>\n",
       "<style scoped>\n",
       "    .dataframe tbody tr th:only-of-type {\n",
       "        vertical-align: middle;\n",
       "    }\n",
       "\n",
       "    .dataframe tbody tr th {\n",
       "        vertical-align: top;\n",
       "    }\n",
       "\n",
       "    .dataframe thead th {\n",
       "        text-align: right;\n",
       "    }\n",
       "</style>\n",
       "<table border=\"1\" class=\"dataframe\">\n",
       "  <thead>\n",
       "    <tr style=\"text-align: right;\">\n",
       "      <th></th>\n",
       "      <th>index</th>\n",
       "      <th>Date</th>\n",
       "      <th>Open</th>\n",
       "      <th>High</th>\n",
       "      <th>Low</th>\n",
       "      <th>Close</th>\n",
       "      <th>Volume</th>\n",
       "      <th>Dividends</th>\n",
       "      <th>Stock Splits</th>\n",
       "    </tr>\n",
       "  </thead>\n",
       "  <tbody>\n",
       "    <tr>\n",
       "      <th>3441</th>\n",
       "      <td>3441</td>\n",
       "      <td>2023-09-06 00:00:00-04:00</td>\n",
       "      <td>333.380005</td>\n",
       "      <td>334.459991</td>\n",
       "      <td>330.179993</td>\n",
       "      <td>332.880005</td>\n",
       "      <td>17535800</td>\n",
       "      <td>0.0</td>\n",
       "      <td>0</td>\n",
       "    </tr>\n",
       "    <tr>\n",
       "      <th>3442</th>\n",
       "      <td>3442</td>\n",
       "      <td>2023-09-07 00:00:00-04:00</td>\n",
       "      <td>331.290009</td>\n",
       "      <td>333.079987</td>\n",
       "      <td>329.029999</td>\n",
       "      <td>329.910004</td>\n",
       "      <td>18381000</td>\n",
       "      <td>0.0</td>\n",
       "      <td>0</td>\n",
       "    </tr>\n",
       "    <tr>\n",
       "      <th>3443</th>\n",
       "      <td>3443</td>\n",
       "      <td>2023-09-08 00:00:00-04:00</td>\n",
       "      <td>330.089996</td>\n",
       "      <td>336.160004</td>\n",
       "      <td>329.459991</td>\n",
       "      <td>334.269989</td>\n",
       "      <td>19530100</td>\n",
       "      <td>0.0</td>\n",
       "      <td>0</td>\n",
       "    </tr>\n",
       "    <tr>\n",
       "      <th>3444</th>\n",
       "      <td>3444</td>\n",
       "      <td>2023-09-11 00:00:00-04:00</td>\n",
       "      <td>337.239990</td>\n",
       "      <td>338.420013</td>\n",
       "      <td>335.429993</td>\n",
       "      <td>337.940002</td>\n",
       "      <td>16562900</td>\n",
       "      <td>0.0</td>\n",
       "      <td>0</td>\n",
       "    </tr>\n",
       "    <tr>\n",
       "      <th>3445</th>\n",
       "      <td>3445</td>\n",
       "      <td>2023-09-12 00:00:00-04:00</td>\n",
       "      <td>335.815002</td>\n",
       "      <td>336.790009</td>\n",
       "      <td>332.220001</td>\n",
       "      <td>333.883392</td>\n",
       "      <td>7939841</td>\n",
       "      <td>0.0</td>\n",
       "      <td>0</td>\n",
       "    </tr>\n",
       "  </tbody>\n",
       "</table>\n",
       "</div>"
      ],
      "text/plain": [
       "      index                      Date        Open        High         Low  \\\n",
       "3441   3441 2023-09-06 00:00:00-04:00  333.380005  334.459991  330.179993   \n",
       "3442   3442 2023-09-07 00:00:00-04:00  331.290009  333.079987  329.029999   \n",
       "3443   3443 2023-09-08 00:00:00-04:00  330.089996  336.160004  329.459991   \n",
       "3444   3444 2023-09-11 00:00:00-04:00  337.239990  338.420013  335.429993   \n",
       "3445   3445 2023-09-12 00:00:00-04:00  335.815002  336.790009  332.220001   \n",
       "\n",
       "           Close    Volume  Dividends  Stock Splits  \n",
       "3441  332.880005  17535800        0.0             0  \n",
       "3442  329.910004  18381000        0.0             0  \n",
       "3443  334.269989  19530100        0.0             0  \n",
       "3444  337.940002  16562900        0.0             0  \n",
       "3445  333.883392   7939841        0.0             0  "
      ]
     },
     "execution_count": 27,
     "metadata": {},
     "output_type": "execute_result"
    }
   ],
   "source": [
    "df.tail()"
   ]
  },
  {
   "cell_type": "code",
   "execution_count": 28,
   "id": "cca44e32",
   "metadata": {},
   "outputs": [
    {
     "data": {
      "text/html": [
       "<div>\n",
       "<style scoped>\n",
       "    .dataframe tbody tr th:only-of-type {\n",
       "        vertical-align: middle;\n",
       "    }\n",
       "\n",
       "    .dataframe tbody tr th {\n",
       "        vertical-align: top;\n",
       "    }\n",
       "\n",
       "    .dataframe thead th {\n",
       "        text-align: right;\n",
       "    }\n",
       "</style>\n",
       "<table border=\"1\" class=\"dataframe\">\n",
       "  <thead>\n",
       "    <tr style=\"text-align: right;\">\n",
       "      <th></th>\n",
       "      <th>level_0</th>\n",
       "      <th>index</th>\n",
       "      <th>Date</th>\n",
       "      <th>Open</th>\n",
       "      <th>High</th>\n",
       "      <th>Low</th>\n",
       "      <th>Close</th>\n",
       "      <th>Volume</th>\n",
       "      <th>Dividends</th>\n",
       "      <th>Stock Splits</th>\n",
       "    </tr>\n",
       "  </thead>\n",
       "  <tbody>\n",
       "    <tr>\n",
       "      <th>0</th>\n",
       "      <td>0</td>\n",
       "      <td>0</td>\n",
       "      <td>2010-01-04 00:00:00-05:00</td>\n",
       "      <td>23.271760</td>\n",
       "      <td>23.636568</td>\n",
       "      <td>23.248959</td>\n",
       "      <td>23.522566</td>\n",
       "      <td>38409100</td>\n",
       "      <td>0.0</td>\n",
       "      <td>0</td>\n",
       "    </tr>\n",
       "    <tr>\n",
       "      <th>1</th>\n",
       "      <td>1</td>\n",
       "      <td>1</td>\n",
       "      <td>2010-01-05 00:00:00-05:00</td>\n",
       "      <td>23.446569</td>\n",
       "      <td>23.636574</td>\n",
       "      <td>23.286965</td>\n",
       "      <td>23.530170</td>\n",
       "      <td>49749600</td>\n",
       "      <td>0.0</td>\n",
       "      <td>0</td>\n",
       "    </tr>\n",
       "    <tr>\n",
       "      <th>2</th>\n",
       "      <td>2</td>\n",
       "      <td>2</td>\n",
       "      <td>2010-01-06 00:00:00-05:00</td>\n",
       "      <td>23.469362</td>\n",
       "      <td>23.621367</td>\n",
       "      <td>23.195757</td>\n",
       "      <td>23.385761</td>\n",
       "      <td>58182400</td>\n",
       "      <td>0.0</td>\n",
       "      <td>0</td>\n",
       "    </tr>\n",
       "    <tr>\n",
       "      <th>3</th>\n",
       "      <td>3</td>\n",
       "      <td>3</td>\n",
       "      <td>2010-01-07 00:00:00-05:00</td>\n",
       "      <td>23.279355</td>\n",
       "      <td>23.332558</td>\n",
       "      <td>22.944948</td>\n",
       "      <td>23.142553</td>\n",
       "      <td>50559700</td>\n",
       "      <td>0.0</td>\n",
       "      <td>0</td>\n",
       "    </tr>\n",
       "    <tr>\n",
       "      <th>4</th>\n",
       "      <td>4</td>\n",
       "      <td>4</td>\n",
       "      <td>2010-01-08 00:00:00-05:00</td>\n",
       "      <td>23.013352</td>\n",
       "      <td>23.469362</td>\n",
       "      <td>22.982951</td>\n",
       "      <td>23.302158</td>\n",
       "      <td>51197400</td>\n",
       "      <td>0.0</td>\n",
       "      <td>0</td>\n",
       "    </tr>\n",
       "  </tbody>\n",
       "</table>\n",
       "</div>"
      ],
      "text/plain": [
       "   level_0  index                      Date       Open       High        Low  \\\n",
       "0        0      0 2010-01-04 00:00:00-05:00  23.271760  23.636568  23.248959   \n",
       "1        1      1 2010-01-05 00:00:00-05:00  23.446569  23.636574  23.286965   \n",
       "2        2      2 2010-01-06 00:00:00-05:00  23.469362  23.621367  23.195757   \n",
       "3        3      3 2010-01-07 00:00:00-05:00  23.279355  23.332558  22.944948   \n",
       "4        4      4 2010-01-08 00:00:00-05:00  23.013352  23.469362  22.982951   \n",
       "\n",
       "       Close    Volume  Dividends  Stock Splits  \n",
       "0  23.522566  38409100        0.0             0  \n",
       "1  23.530170  49749600        0.0             0  \n",
       "2  23.385761  58182400        0.0             0  \n",
       "3  23.142553  50559700        0.0             0  \n",
       "4  23.302158  51197400        0.0             0  "
      ]
     },
     "execution_count": 28,
     "metadata": {},
     "output_type": "execute_result"
    }
   ],
   "source": [
    "#Reset index\n",
    "df = df.reset_index()\n",
    "df.head()"
   ]
  },
  {
   "cell_type": "code",
   "execution_count": 29,
   "id": "03814532",
   "metadata": {},
   "outputs": [
    {
     "data": {
      "text/plain": [
       "[<matplotlib.lines.Line2D at 0x1ef47777f10>]"
      ]
     },
     "execution_count": 29,
     "metadata": {},
     "output_type": "execute_result"
    },
    {
     "data": {
      "image/png": "[encoded data removed]",
      "text/plain": [
       "<Figure size 640x480 with 1 Axes>"
      ]
     },
     "metadata": {},
     "output_type": "display_data"
    }
   ],
   "source": [
    "#Closing price chart\n",
    "plt.plot(df.Close)"
   ]
  },
  {
   "cell_type": "code",
   "execution_count": 30,
   "id": "177972ce",
   "metadata": {},
   "outputs": [
    {
     "data": {
      "text/html": [
       "<div>\n",
       "<style scoped>\n",
       "    .dataframe tbody tr th:only-of-type {\n",
       "        vertical-align: middle;\n",
       "    }\n",
       "\n",
       "    .dataframe tbody tr th {\n",
       "        vertical-align: top;\n",
       "    }\n",
       "\n",
       "    .dataframe thead th {\n",
       "        text-align: right;\n",
       "    }\n",
       "</style>\n",
       "<table border=\"1\" class=\"dataframe\">\n",
       "  <thead>\n",
       "    <tr style=\"text-align: right;\">\n",
       "      <th></th>\n",
       "      <th>level_0</th>\n",
       "      <th>index</th>\n",
       "      <th>Date</th>\n",
       "      <th>Open</th>\n",
       "      <th>High</th>\n",
       "      <th>Low</th>\n",
       "      <th>Close</th>\n",
       "      <th>Volume</th>\n",
       "      <th>Dividends</th>\n",
       "      <th>Stock Splits</th>\n",
       "    </tr>\n",
       "  </thead>\n",
       "  <tbody>\n",
       "    <tr>\n",
       "      <th>0</th>\n",
       "      <td>0</td>\n",
       "      <td>0</td>\n",
       "      <td>2010-01-04 00:00:00-05:00</td>\n",
       "      <td>23.271760</td>\n",
       "      <td>23.636568</td>\n",
       "      <td>23.248959</td>\n",
       "      <td>23.522566</td>\n",
       "      <td>38409100</td>\n",
       "      <td>0.0</td>\n",
       "      <td>0</td>\n",
       "    </tr>\n",
       "    <tr>\n",
       "      <th>1</th>\n",
       "      <td>1</td>\n",
       "      <td>1</td>\n",
       "      <td>2010-01-05 00:00:00-05:00</td>\n",
       "      <td>23.446569</td>\n",
       "      <td>23.636574</td>\n",
       "      <td>23.286965</td>\n",
       "      <td>23.530170</td>\n",
       "      <td>49749600</td>\n",
       "      <td>0.0</td>\n",
       "      <td>0</td>\n",
       "    </tr>\n",
       "    <tr>\n",
       "      <th>2</th>\n",
       "      <td>2</td>\n",
       "      <td>2</td>\n",
       "      <td>2010-01-06 00:00:00-05:00</td>\n",
       "      <td>23.469362</td>\n",
       "      <td>23.621367</td>\n",
       "      <td>23.195757</td>\n",
       "      <td>23.385761</td>\n",
       "      <td>58182400</td>\n",
       "      <td>0.0</td>\n",
       "      <td>0</td>\n",
       "    </tr>\n",
       "    <tr>\n",
       "      <th>3</th>\n",
       "      <td>3</td>\n",
       "      <td>3</td>\n",
       "      <td>2010-01-07 00:00:00-05:00</td>\n",
       "      <td>23.279355</td>\n",
       "      <td>23.332558</td>\n",
       "      <td>22.944948</td>\n",
       "      <td>23.142553</td>\n",
       "      <td>50559700</td>\n",
       "      <td>0.0</td>\n",
       "      <td>0</td>\n",
       "    </tr>\n",
       "    <tr>\n",
       "      <th>4</th>\n",
       "      <td>4</td>\n",
       "      <td>4</td>\n",
       "      <td>2010-01-08 00:00:00-05:00</td>\n",
       "      <td>23.013352</td>\n",
       "      <td>23.469362</td>\n",
       "      <td>22.982951</td>\n",
       "      <td>23.302158</td>\n",
       "      <td>51197400</td>\n",
       "      <td>0.0</td>\n",
       "      <td>0</td>\n",
       "    </tr>\n",
       "    <tr>\n",
       "      <th>...</th>\n",
       "      <td>...</td>\n",
       "      <td>...</td>\n",
       "      <td>...</td>\n",
       "      <td>...</td>\n",
       "      <td>...</td>\n",
       "      <td>...</td>\n",
       "      <td>...</td>\n",
       "      <td>...</td>\n",
       "      <td>...</td>\n",
       "      <td>...</td>\n",
       "    </tr>\n",
       "    <tr>\n",
       "      <th>3441</th>\n",
       "      <td>3441</td>\n",
       "      <td>3441</td>\n",
       "      <td>2023-09-06 00:00:00-04:00</td>\n",
       "      <td>333.380005</td>\n",
       "      <td>334.459991</td>\n",
       "      <td>330.179993</td>\n",
       "      <td>332.880005</td>\n",
       "      <td>17535800</td>\n",
       "      <td>0.0</td>\n",
       "      <td>0</td>\n",
       "    </tr>\n",
       "    <tr>\n",
       "      <th>3442</th>\n",
       "      <td>3442</td>\n",
       "      <td>3442</td>\n",
       "      <td>2023-09-07 00:00:00-04:00</td>\n",
       "      <td>331.290009</td>\n",
       "      <td>333.079987</td>\n",
       "      <td>329.029999</td>\n",
       "      <td>329.910004</td>\n",
       "      <td>18381000</td>\n",
       "      <td>0.0</td>\n",
       "      <td>0</td>\n",
       "    </tr>\n",
       "    <tr>\n",
       "      <th>3443</th>\n",
       "      <td>3443</td>\n",
       "      <td>3443</td>\n",
       "      <td>2023-09-08 00:00:00-04:00</td>\n",
       "      <td>330.089996</td>\n",
       "      <td>336.160004</td>\n",
       "      <td>329.459991</td>\n",
       "      <td>334.269989</td>\n",
       "      <td>19530100</td>\n",
       "      <td>0.0</td>\n",
       "      <td>0</td>\n",
       "    </tr>\n",
       "    <tr>\n",
       "      <th>3444</th>\n",
       "      <td>3444</td>\n",
       "      <td>3444</td>\n",
       "      <td>2023-09-11 00:00:00-04:00</td>\n",
       "      <td>337.239990</td>\n",
       "      <td>338.420013</td>\n",
       "      <td>335.429993</td>\n",
       "      <td>337.940002</td>\n",
       "      <td>16562900</td>\n",
       "      <td>0.0</td>\n",
       "      <td>0</td>\n",
       "    </tr>\n",
       "    <tr>\n",
       "      <th>3445</th>\n",
       "      <td>3445</td>\n",
       "      <td>3445</td>\n",
       "      <td>2023-09-12 00:00:00-04:00</td>\n",
       "      <td>335.815002</td>\n",
       "      <td>336.790009</td>\n",
       "      <td>332.220001</td>\n",
       "      <td>333.883392</td>\n",
       "      <td>7939841</td>\n",
       "      <td>0.0</td>\n",
       "      <td>0</td>\n",
       "    </tr>\n",
       "  </tbody>\n",
       "</table>\n",
       "<p>3446 rows × 10 columns</p>\n",
       "</div>"
      ],
      "text/plain": [
       "      level_0  index                      Date        Open        High  \\\n",
       "0           0      0 2010-01-04 00:00:00-05:00   23.271760   23.636568   \n",
       "1           1      1 2010-01-05 00:00:00-05:00   23.446569   23.636574   \n",
       "2           2      2 2010-01-06 00:00:00-05:00   23.469362   23.621367   \n",
       "3           3      3 2010-01-07 00:00:00-05:00   23.279355   23.332558   \n",
       "4           4      4 2010-01-08 00:00:00-05:00   23.013352   23.469362   \n",
       "...       ...    ...                       ...         ...         ...   \n",
       "3441     3441   3441 2023-09-06 00:00:00-04:00  333.380005  334.459991   \n",
       "3442     3442   3442 2023-09-07 00:00:00-04:00  331.290009  333.079987   \n",
       "3443     3443   3443 2023-09-08 00:00:00-04:00  330.089996  336.160004   \n",
       "3444     3444   3444 2023-09-11 00:00:00-04:00  337.239990  338.420013   \n",
       "3445     3445   3445 2023-09-12 00:00:00-04:00  335.815002  336.790009   \n",
       "\n",
       "             Low       Close    Volume  Dividends  Stock Splits  \n",
       "0      23.248959   23.522566  38409100        0.0             0  \n",
       "1      23.286965   23.530170  49749600        0.0             0  \n",
       "2      23.195757   23.385761  58182400        0.0             0  \n",
       "3      22.944948   23.142553  50559700        0.0             0  \n",
       "4      22.982951   23.302158  51197400        0.0             0  \n",
       "...          ...         ...       ...        ...           ...  \n",
       "3441  330.179993  332.880005  17535800        0.0             0  \n",
       "3442  329.029999  329.910004  18381000        0.0             0  \n",
       "3443  329.459991  334.269989  19530100        0.0             0  \n",
       "3444  335.429993  337.940002  16562900        0.0             0  \n",
       "3445  332.220001  333.883392   7939841        0.0             0  \n",
       "\n",
       "[3446 rows x 10 columns]"
      ]
     },
     "execution_count": 30,
     "metadata": {},
     "output_type": "execute_result"
    }
   ],
   "source": [
    "df"
   ]
  },
  {
   "cell_type": "code",
   "execution_count": 31,
   "id": "a52ede3f",
   "metadata": {},
   "outputs": [
    {
     "data": {
      "text/plain": [
       "0              NaN\n",
       "1              NaN\n",
       "2              NaN\n",
       "3              NaN\n",
       "4              NaN\n",
       "           ...    \n",
       "3441    323.543386\n",
       "3442    323.993360\n",
       "3443    324.460448\n",
       "3444    324.968517\n",
       "3445    325.435224\n",
       "Name: Close, Length: 3446, dtype: float64"
      ]
     },
     "execution_count": 31,
     "metadata": {},
     "output_type": "execute_result"
    }
   ],
   "source": [
    "#Moving average of 100 days\n",
    "ma100 = df.Close.rolling(100).mean()\n",
    "ma100"
   ]
  },
  {
   "cell_type": "code",
   "execution_count": 32,
   "id": "66ddd478",
   "metadata": {},
   "outputs": [
    {
     "data": {
      "text/plain": [
       "[<matplotlib.lines.Line2D at 0x1ef47907e20>]"
      ]
     },
     "execution_count": 32,
     "metadata": {},
     "output_type": "execute_result"
    },
    {
     "data": {
      "image/png": "[encoded data removed]",
      "text/plain": [
       "<Figure size 1200x600 with 1 Axes>"
      ]
     },
     "metadata": {},
     "output_type": "display_data"
    }
   ],
   "source": [
    "plt.figure(figsize=(12,6))\n",
    "plt.plot(df.Close)\n",
    "plt.plot(ma100,'r')"
   ]
  },
  {
   "cell_type": "code",
   "execution_count": 33,
   "id": "08c6fb9d",
   "metadata": {},
   "outputs": [
    {
     "data": {
      "text/plain": [
       "0              NaN\n",
       "1              NaN\n",
       "2              NaN\n",
       "3              NaN\n",
       "4              NaN\n",
       "           ...    \n",
       "3441    288.400111\n",
       "3442    288.849451\n",
       "3443    289.322875\n",
       "3444    289.810527\n",
       "3445    290.263097\n",
       "Name: Close, Length: 3446, dtype: float64"
      ]
     },
     "execution_count": 33,
     "metadata": {},
     "output_type": "execute_result"
    }
   ],
   "source": [
    "#Moving average of 200 days\n",
    "ma200 = df.Close.rolling(200).mean()\n",
    "ma200"
   ]
  },
  {
   "cell_type": "code",
   "execution_count": 34,
   "id": "b0fb89ce",
   "metadata": {},
   "outputs": [
    {
     "data": {
      "text/plain": [
       "[<matplotlib.lines.Line2D at 0x1ef477fbd90>]"
      ]
     },
     "execution_count": 34,
     "metadata": {},
     "output_type": "execute_result"
    },
    {
     "data": {
      "image/png": "[encoded data removed]",
      "text/plain": [
       "<Figure size 1200x600 with 1 Axes>"
      ]
     },
     "metadata": {},
     "output_type": "display_data"
    }
   ],
   "source": [
    "plt.figure(figsize=(12,6))\n",
    "plt.plot(df.Close)\n",
    "plt.plot(ma100,'r')\n",
    "plt.plot(ma200,'g')"
   ]
  },
  {
   "cell_type": "code",
   "execution_count": 35,
   "id": "910af944",
   "metadata": {},
   "outputs": [
    {
     "data": {
      "text/plain": [
       "(3446, 10)"
      ]
     },
     "execution_count": 35,
     "metadata": {},
     "output_type": "execute_result"
    }
   ],
   "source": [
    "df.shape"
   ]
  },
  {
   "cell_type": "code",
   "execution_count": 36,
   "id": "77e97379",
   "metadata": {},
   "outputs": [
    {
     "name": "stdout",
     "output_type": "stream",
     "text": [
      "(2412, 1)\n",
      "(1034, 1)\n"
     ]
    }
   ],
   "source": [
    "#Splitting Data into Training and Testing\n",
    "\n",
    "data_training = pd.DataFrame(df['Close'][0:int(len(df)*0.70)])\n",
    "data_testing = pd.DataFrame(df['Close'][int(len(df)*0.70): int(len(df))])\n",
    "\n",
    "print(data_training.shape)\n",
    "print(data_testing.shape)"
   ]
  },
  {
   "cell_type": "code",
   "execution_count": 37,
   "id": "2231ca96",
   "metadata": {},
   "outputs": [
    {
     "data": {
      "text/html": [
       "<div>\n",
       "<style scoped>\n",
       "    .dataframe tbody tr th:only-of-type {\n",
       "        vertical-align: middle;\n",
       "    }\n",
       "\n",
       "    .dataframe tbody tr th {\n",
       "        vertical-align: top;\n",
       "    }\n",
       "\n",
       "    .dataframe thead th {\n",
       "        text-align: right;\n",
       "    }\n",
       "</style>\n",
       "<table border=\"1\" class=\"dataframe\">\n",
       "  <thead>\n",
       "    <tr style=\"text-align: right;\">\n",
       "      <th></th>\n",
       "      <th>Close</th>\n",
       "    </tr>\n",
       "  </thead>\n",
       "  <tbody>\n",
       "    <tr>\n",
       "      <th>0</th>\n",
       "      <td>23.522566</td>\n",
       "    </tr>\n",
       "    <tr>\n",
       "      <th>1</th>\n",
       "      <td>23.530170</td>\n",
       "    </tr>\n",
       "    <tr>\n",
       "      <th>2</th>\n",
       "      <td>23.385761</td>\n",
       "    </tr>\n",
       "    <tr>\n",
       "      <th>3</th>\n",
       "      <td>23.142553</td>\n",
       "    </tr>\n",
       "    <tr>\n",
       "      <th>4</th>\n",
       "      <td>23.302158</td>\n",
       "    </tr>\n",
       "  </tbody>\n",
       "</table>\n",
       "</div>"
      ],
      "text/plain": [
       "       Close\n",
       "0  23.522566\n",
       "1  23.530170\n",
       "2  23.385761\n",
       "3  23.142553\n",
       "4  23.302158"
      ]
     },
     "execution_count": 37,
     "metadata": {},
     "output_type": "execute_result"
    }
   ],
   "source": [
    "data_training.head()"
   ]
  },
  {
   "cell_type": "code",
   "execution_count": 38,
   "id": "b7f2cc7c",
   "metadata": {},
   "outputs": [
    {
     "data": {
      "text/html": [
       "<div>\n",
       "<style scoped>\n",
       "    .dataframe tbody tr th:only-of-type {\n",
       "        vertical-align: middle;\n",
       "    }\n",
       "\n",
       "    .dataframe tbody tr th {\n",
       "        vertical-align: top;\n",
       "    }\n",
       "\n",
       "    .dataframe thead th {\n",
       "        text-align: right;\n",
       "    }\n",
       "</style>\n",
       "<table border=\"1\" class=\"dataframe\">\n",
       "  <thead>\n",
       "    <tr style=\"text-align: right;\">\n",
       "      <th></th>\n",
       "      <th>Close</th>\n",
       "    </tr>\n",
       "  </thead>\n",
       "  <tbody>\n",
       "    <tr>\n",
       "      <th>2412</th>\n",
       "      <td>126.805977</td>\n",
       "    </tr>\n",
       "    <tr>\n",
       "      <th>2413</th>\n",
       "      <td>129.184631</td>\n",
       "    </tr>\n",
       "    <tr>\n",
       "      <th>2414</th>\n",
       "      <td>129.750473</td>\n",
       "    </tr>\n",
       "    <tr>\n",
       "      <th>2415</th>\n",
       "      <td>133.212921</td>\n",
       "    </tr>\n",
       "    <tr>\n",
       "      <th>2416</th>\n",
       "      <td>132.081177</td>\n",
       "    </tr>\n",
       "  </tbody>\n",
       "</table>\n",
       "</div>"
      ],
      "text/plain": [
       "           Close\n",
       "2412  126.805977\n",
       "2413  129.184631\n",
       "2414  129.750473\n",
       "2415  133.212921\n",
       "2416  132.081177"
      ]
     },
     "execution_count": 38,
     "metadata": {},
     "output_type": "execute_result"
    }
   ],
   "source": [
    "data_testing.head()"
   ]
  },
  {
   "cell_type": "code",
   "execution_count": 39,
   "id": "2e95891f",
   "metadata": {},
   "outputs": [],
   "source": [
    "#Scaling data(to Normalize data in a particular range)\n",
    "# makes it easy for a model to learn and understand the problem\n",
    "from sklearn.preprocessing import MinMaxScaler\n",
    "scaler = MinMaxScaler(feature_range=(0,1))"
   ]
  },
  {
   "cell_type": "code",
   "execution_count": 40,
   "id": "f254001d",
   "metadata": {},
   "outputs": [
    {
     "data": {
      "text/plain": [
       "array([[0.04981172],\n",
       "       [0.04987621],\n",
       "       [0.04865151],\n",
       "       ...,\n",
       "       [0.95876   ],\n",
       "       [0.9733199 ],\n",
       "       [0.96388462]])"
      ]
     },
     "execution_count": 40,
     "metadata": {},
     "output_type": "execute_result"
    }
   ],
   "source": [
    "#Storing in array\n",
    "data_training_array = scaler.fit_transform(data_training)\n",
    "data_training_array"
   ]
  },
  {
   "cell_type": "code",
   "execution_count": 41,
   "id": "cae6e3f3",
   "metadata": {},
   "outputs": [],
   "source": [
    "# Divide the data into x and y\n",
    "x_train = []\n",
    "y_train = []\n",
    "\n",
    "for i in range(100, data_training_array.shape[0]):\n",
    "    x_train.append(data_training_array[i-100: i])\n",
    "    y_train.append(data_training_array[i, 0])\n",
    "    \n",
    "#now make into numpy(because to give to model)\n",
    "x_train, y_train = np.array(x_train), np.array(y_train)"
   ]
  },
  {
   "cell_type": "code",
   "execution_count": 42,
   "id": "32b21955",
   "metadata": {},
   "outputs": [],
   "source": [
    "# ML MODEL\n",
    "\n",
    "from keras.layers import Dense,Dropout, LSTM\n",
    "from keras.models import Sequential"
   ]
  },
  {
   "cell_type": "code",
   "execution_count": 43,
   "id": "e7b3b0f3",
   "metadata": {},
   "outputs": [],
   "source": [
    "model = Sequential()\n",
    "\n",
    "model.add(LSTM(units = 50, activation = 'relu', return_sequences = True,\n",
    "              input_shape = (x_train.shape[1], 1)))\n",
    "model.add(Dropout(0.2))\n",
    "\n",
    "\n",
    "model.add(LSTM(units = 60, activation = 'relu', return_sequences = True))\n",
    "model.add(Dropout(0.3))\n",
    "\n",
    "model.add(LSTM(units = 80, activation = 'relu', return_sequences = True))\n",
    "model.add(Dropout(0.4))\n",
    "\n",
    "model.add(LSTM(units = 120, activation = 'relu'))\n",
    "model.add(Dropout(0.5))\n",
    "\n",
    "#To connect all layers\n",
    "model.add(Dense(units = 1))"
   ]
  },
  {
   "cell_type": "code",
   "execution_count": 44,
   "id": "e6c6e182",
   "metadata": {},
   "outputs": [
    {
     "name": "stdout",
     "output_type": "stream",
     "text": [
      "Model: \"sequential_1\"\n",
      "_________________________________________________________________\n",
      " Layer (type)                Output Shape              Param #   \n",
      "=================================================================\n",
      " lstm_4 (LSTM)               (None, 100, 50)           10400     \n",
      "                                                                 \n",
      " dropout_4 (Dropout)         (None, 100, 50)           0         \n",
      "                                                                 \n",
      " lstm_5 (LSTM)               (None, 100, 60)           26640     \n",
      "                                                                 \n",
      " dropout_5 (Dropout)         (None, 100, 60)           0         \n",
      "                                                                 \n",
      " lstm_6 (LSTM)               (None, 100, 80)           45120     \n",
      "                                                                 \n",
      " dropout_6 (Dropout)         (None, 100, 80)           0         \n",
      "                                                                 \n",
      " lstm_7 (LSTM)               (None, 120)               96480     \n",
      "                                                                 \n",
      " dropout_7 (Dropout)         (None, 120)               0         \n",
      "                                                                 \n",
      " dense_1 (Dense)             (None, 1)                 121       \n",
      "                                                                 \n",
      "=================================================================\n",
      "Total params: 178,761\n",
      "Trainable params: 178,761\n",
      "Non-trainable params: 0\n",
      "_________________________________________________________________\n"
     ]
    }
   ],
   "source": [
    "model.summary()"
   ]
  },
  {
   "cell_type": "code",
   "execution_count": 45,
   "id": "fec46bb4",
   "metadata": {},
   "outputs": [
    {
     "name": "stdout",
     "output_type": "stream",
     "text": [
      "Epoch 1/50\n",
      "73/73 [==============================] - 24s 239ms/step - loss: 0.0197\n",
      "Epoch 2/50\n",
      "73/73 [==============================] - 16s 219ms/step - loss: 0.0046\n",
      "Epoch 3/50\n",
      "73/73 [==============================] - 16s 226ms/step - loss: 0.0033\n",
      "Epoch 4/50\n",
      "73/73 [==============================] - 17s 238ms/step - loss: 0.0041\n",
      "Epoch 5/50\n",
      "73/73 [==============================] - 17s 237ms/step - loss: 0.0030\n",
      "Epoch 6/50\n",
      "73/73 [==============================] - 17s 227ms/step - loss: 0.0032\n",
      "Epoch 7/50\n",
      "73/73 [==============================] - 16s 219ms/step - loss: 0.0029\n",
      "Epoch 8/50\n",
      "73/73 [==============================] - 16s 222ms/step - loss: 0.0028\n",
      "Epoch 9/50\n",
      "73/73 [==============================] - 16s 223ms/step - loss: 0.0031\n",
      "Epoch 10/50\n",
      "73/73 [==============================] - 16s 225ms/step - loss: 0.0028\n",
      "Epoch 11/50\n",
      "73/73 [==============================] - 17s 235ms/step - loss: 0.0027\n",
      "Epoch 12/50\n",
      "73/73 [==============================] - 19s 264ms/step - loss: 0.0025\n",
      "Epoch 13/50\n",
      "73/73 [==============================] - 20s 275ms/step - loss: 0.0020\n",
      "Epoch 14/50\n",
      "73/73 [==============================] - 18s 241ms/step - loss: 0.0024\n",
      "Epoch 15/50\n",
      "73/73 [==============================] - 16s 218ms/step - loss: 0.0023\n",
      "Epoch 16/50\n",
      "73/73 [==============================] - 16s 216ms/step - loss: 0.0026\n",
      "Epoch 17/50\n",
      "73/73 [==============================] - 16s 224ms/step - loss: 0.0023\n",
      "Epoch 18/50\n",
      "73/73 [==============================] - 16s 220ms/step - loss: 0.0021\n",
      "Epoch 19/50\n",
      "73/73 [==============================] - 16s 216ms/step - loss: 0.0022\n",
      "Epoch 20/50\n",
      "73/73 [==============================] - 16s 214ms/step - loss: 0.0022\n",
      "Epoch 21/50\n",
      "73/73 [==============================] - 16s 215ms/step - loss: 0.0024\n",
      "Epoch 22/50\n",
      "73/73 [==============================] - 16s 216ms/step - loss: 0.0020\n",
      "Epoch 23/50\n",
      "73/73 [==============================] - 15s 212ms/step - loss: 0.0022\n",
      "Epoch 24/50\n",
      "73/73 [==============================] - 16s 216ms/step - loss: 0.0023\n",
      "Epoch 25/50\n",
      "73/73 [==============================] - 16s 214ms/step - loss: 0.0021\n",
      "Epoch 26/50\n",
      "73/73 [==============================] - 16s 220ms/step - loss: 0.0022\n",
      "Epoch 27/50\n",
      "73/73 [==============================] - 16s 222ms/step - loss: 0.0019\n",
      "Epoch 28/50\n",
      "73/73 [==============================] - 16s 218ms/step - loss: 0.0020\n",
      "Epoch 29/50\n",
      "73/73 [==============================] - 16s 216ms/step - loss: 0.0017\n",
      "Epoch 30/50\n",
      "73/73 [==============================] - 16s 218ms/step - loss: 0.0020\n",
      "Epoch 31/50\n",
      "73/73 [==============================] - 16s 212ms/step - loss: 0.0021\n",
      "Epoch 32/50\n",
      "73/73 [==============================] - 16s 215ms/step - loss: 0.0019\n",
      "Epoch 33/50\n",
      "73/73 [==============================] - 16s 219ms/step - loss: 0.0017\n",
      "Epoch 34/50\n",
      "73/73 [==============================] - 16s 216ms/step - loss: 0.0019\n",
      "Epoch 35/50\n",
      "73/73 [==============================] - 16s 215ms/step - loss: 0.0017\n",
      "Epoch 36/50\n",
      "73/73 [==============================] - 16s 220ms/step - loss: 0.0020\n",
      "Epoch 37/50\n",
      "73/73 [==============================] - 16s 221ms/step - loss: 0.0020\n",
      "Epoch 38/50\n",
      "73/73 [==============================] - 16s 223ms/step - loss: 0.0018\n",
      "Epoch 39/50\n",
      "73/73 [==============================] - 16s 220ms/step - loss: 0.0018\n",
      "Epoch 40/50\n",
      "73/73 [==============================] - 18s 241ms/step - loss: 0.0018\n",
      "Epoch 41/50\n",
      "73/73 [==============================] - 17s 238ms/step - loss: 0.0018\n",
      "Epoch 42/50\n",
      "73/73 [==============================] - 16s 219ms/step - loss: 0.0017\n",
      "Epoch 43/50\n",
      "73/73 [==============================] - 16s 218ms/step - loss: 0.0018\n",
      "Epoch 44/50\n",
      "73/73 [==============================] - 16s 216ms/step - loss: 0.0019\n",
      "Epoch 45/50\n",
      "73/73 [==============================] - 16s 216ms/step - loss: 0.0018\n",
      "Epoch 46/50\n",
      "73/73 [==============================] - 16s 214ms/step - loss: 0.0019\n",
      "Epoch 47/50\n",
      "73/73 [==============================] - 16s 215ms/step - loss: 0.0020\n",
      "Epoch 48/50\n",
      "73/73 [==============================] - 16s 215ms/step - loss: 0.0019\n",
      "Epoch 49/50\n",
      "73/73 [==============================] - 16s 216ms/step - loss: 0.0020\n",
      "Epoch 50/50\n",
      "73/73 [==============================] - 16s 223ms/step - loss: 0.0020\n"
     ]
    },
    {
     "data": {
      "text/plain": [
       "<keras.callbacks.History at 0x1ef47847190>"
      ]
     },
     "execution_count": 45,
     "metadata": {},
     "output_type": "execute_result"
    }
   ],
   "source": [
    "#compile the model\n",
    "model.compile(optimizer = 'adam', loss = 'mean_squared_error')\n",
    "\n",
    "#Fit the model\n",
    "model.fit(x_train, y_train, epochs = 50)"
   ]
  },
  {
   "cell_type": "code",
   "execution_count": 46,
   "id": "fea52bbc",
   "metadata": {},
   "outputs": [
    {
     "name": "stdout",
     "output_type": "stream",
     "text": [
      "INFO:tensorflow:Assets written to: keras_model.h1\\assets\n"
     ]
    }
   ],
   "source": [
    "model.save('keras_model.h1')"
   ]
  },
  {
   "cell_type": "code",
   "execution_count": 47,
   "id": "a988ac68",
   "metadata": {},
   "outputs": [
    {
     "data": {
      "text/html": [
       "<div>\n",
       "<style scoped>\n",
       "    .dataframe tbody tr th:only-of-type {\n",
       "        vertical-align: middle;\n",
       "    }\n",
       "\n",
       "    .dataframe tbody tr th {\n",
       "        vertical-align: top;\n",
       "    }\n",
       "\n",
       "    .dataframe thead th {\n",
       "        text-align: right;\n",
       "    }\n",
       "</style>\n",
       "<table border=\"1\" class=\"dataframe\">\n",
       "  <thead>\n",
       "    <tr style=\"text-align: right;\">\n",
       "      <th></th>\n",
       "      <th>Close</th>\n",
       "    </tr>\n",
       "  </thead>\n",
       "  <tbody>\n",
       "    <tr>\n",
       "      <th>2412</th>\n",
       "      <td>126.805977</td>\n",
       "    </tr>\n",
       "    <tr>\n",
       "      <th>2413</th>\n",
       "      <td>129.184631</td>\n",
       "    </tr>\n",
       "    <tr>\n",
       "      <th>2414</th>\n",
       "      <td>129.750473</td>\n",
       "    </tr>\n",
       "    <tr>\n",
       "      <th>2415</th>\n",
       "      <td>133.212921</td>\n",
       "    </tr>\n",
       "    <tr>\n",
       "      <th>2416</th>\n",
       "      <td>132.081177</td>\n",
       "    </tr>\n",
       "  </tbody>\n",
       "</table>\n",
       "</div>"
      ],
      "text/plain": [
       "           Close\n",
       "2412  126.805977\n",
       "2413  129.184631\n",
       "2414  129.750473\n",
       "2415  133.212921\n",
       "2416  132.081177"
      ]
     },
     "execution_count": 47,
     "metadata": {},
     "output_type": "execute_result"
    }
   ],
   "source": [
    "data_testing.head()"
   ]
  },
  {
   "cell_type": "code",
   "execution_count": 48,
   "id": "75687573",
   "metadata": {},
   "outputs": [],
   "source": [
    "#For predicting the testing data\n",
    "past_100_days = data_training.tail(100)"
   ]
  },
  {
   "cell_type": "code",
   "execution_count": 49,
   "id": "356f735d",
   "metadata": {},
   "outputs": [
    {
     "name": "stderr",
     "output_type": "stream",
     "text": [
      "C:\\Users\\MAHAMMAD ALTHAF\\AppData\\Local\\Temp\\ipykernel_14924\\531349220.py:1: FutureWarning: The frame.append method is deprecated and will be removed from pandas in a future version. Use pandas.concat instead.\n",
      "  final_df = past_100_days.append(data_testing, ignore_index=True)\n"
     ]
    }
   ],
   "source": [
    "final_df = past_100_days.append(data_testing, ignore_index=True)"
   ]
  },
  {
   "cell_type": "code",
   "execution_count": 50,
   "id": "c4c8a042",
   "metadata": {},
   "outputs": [
    {
     "data": {
      "text/html": [
       "<div>\n",
       "<style scoped>\n",
       "    .dataframe tbody tr th:only-of-type {\n",
       "        vertical-align: middle;\n",
       "    }\n",
       "\n",
       "    .dataframe tbody tr th {\n",
       "        vertical-align: top;\n",
       "    }\n",
       "\n",
       "    .dataframe thead th {\n",
       "        text-align: right;\n",
       "    }\n",
       "</style>\n",
       "<table border=\"1\" class=\"dataframe\">\n",
       "  <thead>\n",
       "    <tr style=\"text-align: right;\">\n",
       "      <th></th>\n",
       "      <th>Close</th>\n",
       "    </tr>\n",
       "  </thead>\n",
       "  <tbody>\n",
       "    <tr>\n",
       "      <th>0</th>\n",
       "      <td>109.414848</td>\n",
       "    </tr>\n",
       "    <tr>\n",
       "      <th>1</th>\n",
       "      <td>109.500862</td>\n",
       "    </tr>\n",
       "    <tr>\n",
       "      <th>2</th>\n",
       "      <td>110.762230</td>\n",
       "    </tr>\n",
       "    <tr>\n",
       "      <th>3</th>\n",
       "      <td>112.348495</td>\n",
       "    </tr>\n",
       "    <tr>\n",
       "      <th>4</th>\n",
       "      <td>112.424942</td>\n",
       "    </tr>\n",
       "  </tbody>\n",
       "</table>\n",
       "</div>"
      ],
      "text/plain": [
       "        Close\n",
       "0  109.414848\n",
       "1  109.500862\n",
       "2  110.762230\n",
       "3  112.348495\n",
       "4  112.424942"
      ]
     },
     "execution_count": 50,
     "metadata": {},
     "output_type": "execute_result"
    }
   ],
   "source": [
    "final_df.head()"
   ]
  },
  {
   "cell_type": "code",
   "execution_count": 51,
   "id": "fc7aa4aa",
   "metadata": {},
   "outputs": [
    {
     "data": {
      "text/plain": [
       "array([[0.00000000e+00],\n",
       "       [3.44999619e-04],\n",
       "       [5.40432079e-03],\n",
       "       ...,\n",
       "       [9.01889502e-01],\n",
       "       [9.16609853e-01],\n",
       "       [9.00338870e-01]])"
      ]
     },
     "execution_count": 51,
     "metadata": {},
     "output_type": "execute_result"
    }
   ],
   "source": [
    "# Again scaling\n",
    "input_data = scaler.fit_transform(final_df)\n",
    "input_data"
   ]
  },
  {
   "cell_type": "code",
   "execution_count": 52,
   "id": "5b78376d",
   "metadata": {},
   "outputs": [
    {
     "data": {
      "text/plain": [
       "(1134, 1)"
      ]
     },
     "execution_count": 52,
     "metadata": {},
     "output_type": "execute_result"
    }
   ],
   "source": [
    "input_data.shape"
   ]
  },
  {
   "cell_type": "code",
   "execution_count": 53,
   "id": "16f65c13",
   "metadata": {},
   "outputs": [],
   "source": [
    "x_test = []\n",
    "y_test = []\n",
    "\n",
    "for i in range(100, input_data.shape[0]):\n",
    "    x_test.append(input_data[i-100: i])\n",
    "    y_test.append(input_data[i, 0])"
   ]
  },
  {
   "cell_type": "code",
   "execution_count": 54,
   "id": "d2a8b0a1",
   "metadata": {},
   "outputs": [
    {
     "name": "stdout",
     "output_type": "stream",
     "text": [
      "(1034, 100, 1)\n",
      "(1034,)\n"
     ]
    }
   ],
   "source": [
    "x_test, y_test = np.array(x_test), np.array(y_test)\n",
    "print(x_test.shape)\n",
    "print(y_test.shape)"
   ]
  },
  {
   "cell_type": "code",
   "execution_count": 55,
   "id": "83959373",
   "metadata": {},
   "outputs": [
    {
     "name": "stdout",
     "output_type": "stream",
     "text": [
      "33/33 [==============================] - 3s 73ms/step\n"
     ]
    },
    {
     "data": {
      "text/plain": [
       "(1034, 1)"
      ]
     },
     "execution_count": 55,
     "metadata": {},
     "output_type": "execute_result"
    }
   ],
   "source": [
    "# Making Predictions\n",
    "\n",
    "y_predicted = model.predict(x_test)\n",
    "y_predicted.shape"
   ]
  },
  {
   "cell_type": "code",
   "execution_count": 56,
   "id": "7e6d3595",
   "metadata": {},
   "outputs": [
    {
     "data": {
      "text/plain": [
       "array([0.06975547, 0.07929621, 0.08156579, ..., 0.9018895 , 0.91660985,\n",
       "       0.90033887])"
      ]
     },
     "execution_count": 56,
     "metadata": {},
     "output_type": "execute_result"
    }
   ],
   "source": [
    "y_test"
   ]
  },
  {
   "cell_type": "code",
   "execution_count": 57,
   "id": "a7327f7e",
   "metadata": {},
   "outputs": [
    {
     "data": {
      "text/plain": [
       "array([[0.11987025],\n",
       "       [0.12023708],\n",
       "       [0.1204622 ],\n",
       "       ...,\n",
       "       [0.8019606 ],\n",
       "       [0.80295   ],\n",
       "       [0.8042631 ]], dtype=float32)"
      ]
     },
     "execution_count": 57,
     "metadata": {},
     "output_type": "execute_result"
    }
   ],
   "source": [
    "y_predicted"
   ]
  },
  {
   "cell_type": "code",
   "execution_count": 58,
   "id": "e61e111c",
   "metadata": {},
   "outputs": [
    {
     "data": {
      "text/plain": [
       "array([0.00401098])"
      ]
     },
     "execution_count": 58,
     "metadata": {},
     "output_type": "execute_result"
    }
   ],
   "source": [
    "scaler.scale_"
   ]
  },
  {
   "cell_type": "code",
   "execution_count": 59,
   "id": "b4619be1",
   "metadata": {},
   "outputs": [],
   "source": [
    "scale_factor = 1/0.02822267\n",
    "y_predicted = y_predicted * scale_factor\n",
    "y_test = y_test * scale_factor"
   ]
  },
  {
   "cell_type": "code",
   "execution_count": 60,
   "id": "5b3e75a2",
   "metadata": {},
   "outputs": [
    {
     "data": {
      "image/png": "[encoded data removed]",
      "text/plain": [
       "<Figure size 1200x600 with 1 Axes>"
      ]
     },
     "metadata": {},
     "output_type": "display_data"
    }
   ],
   "source": [
    "plt.figure(figsize=(12,6))\n",
    "plt.plot(y_test, 'b', label = 'Original Price')\n",
    "plt.plot(y_predicted, 'r', label = 'Predicted Price')\n",
    "plt.xlabel('Time')\n",
    "plt.ylabel('Price')\n",
    "plt.legend()\n",
    "plt.show()"
   ]
  },
  {
   "cell_type": "code",
   "execution_count": 61,
   "id": "e0dd723b",
   "metadata": {},
   "outputs": [
    {
     "name": "stderr",
     "output_type": "stream",
     "text": [
      "D:\\Anaconda\\lib\\site-packages\\sklearn\\base.py:450: UserWarning: X does not have valid feature names, but MinMaxScaler was fitted with feature names\n",
      "  warnings.warn(\n"
     ]
    }
   ],
   "source": [
    "total_dataset = pd.concat((df['Close'],data_testing['Close']),axis=0)\n",
    "model_inputs = total_dataset[len(total_dataset)-len(data_testing)-100:].values\n",
    "model_inputs = model_inputs.reshape(-1,1)\n",
    "model_inputs = scaler.transform(model_inputs)"
   ]
  },
  {
   "cell_type": "code",
   "execution_count": 62,
   "id": "8f355f54",
   "metadata": {},
   "outputs": [],
   "source": [
    "# predicting next day\n",
    "\n",
    "real_data = [model_inputs[len(model_inputs)+1 - 100:len(model_inputs+1),0]]\n",
    "real_data = np.array(real_data)\n",
    "real_data = np.reshape(real_data, (real_data.shape[0], real_data.shape[1], 1))"
   ]
  },
  {
   "cell_type": "code",
   "execution_count": 63,
   "id": "419f457d",
   "metadata": {},
   "outputs": [
    {
     "name": "stdout",
     "output_type": "stream",
     "text": [
      "1/1 [==============================] - 1s 685ms/step\n",
      "prediction: [[310.32498]]\n"
     ]
    }
   ],
   "source": [
    "prediction = model.predict(real_data)\n",
    "prediction = scaler.inverse_transform(prediction)\n",
    "print(f\"prediction: {prediction}\")"
   ]
  },
  {
   "cell_type": "code",
   "execution_count": 64,
   "id": "0cd2e31c",
   "metadata": {},
   "outputs": [
    {
     "name": "stdout",
     "output_type": "stream",
     "text": [
      "0.9396308781202092\n"
     ]
    }
   ],
   "source": [
    "from sklearn.metrics import accuracy_score,mean_squared_error,r2_score\n",
    "accuracy = r2_score(y_test, y_predicted)\n",
    "print(accuracy)"
   ]
  },
  {
   "cell_type": "code",
   "execution_count": 65,
   "id": "2e44d3e2",
   "metadata": {},
   "outputs": [
    {
     "name": "stdout",
     "output_type": "stream",
     "text": [
      "Mean Absolute Error: 1.634977874545116\n",
      "Mean Squared Error: 4.272539569089415\n",
      "Root Mean Squared Error: 2.0670122324479396\n"
     ]
    }
   ],
   "source": [
    "from sklearn import metrics\n",
    "\n",
    "print('Mean Absolute Error:', metrics.mean_absolute_error(y_test, y_predicted))\n",
    "print('Mean Squared Error:', metrics.mean_squared_error(y_test, y_predicted))\n",
    "RSME = np.sqrt(metrics.mean_squared_error(y_test, y_predicted))\n",
    "print('Root Mean Squared Error:', np.sqrt(metrics.mean_squared_error(y_test, y_predicted)))"
   ]
  },
  {
   "cell_type": "code",
   "execution_count": null,
   "id": "0b5b85d8",
   "metadata": {},
   "outputs": [],
   "source": []
  },
  {
   "cell_type": "code",
   "execution_count": null,
   "id": "deef493e",
   "metadata": {},
   "outputs": [],
   "source": []
  }
 ],
 "metadata": {
  "kernelspec": {
   "display_name": "Python 3 (ipykernel)",
   "language": "python",
   "name": "python3"
  },
  "language_info": {
   "codemirror_mode": {
    "name": "ipython",
    "version": 3
   },
   "file_extension": ".py",
   "mimetype": "text/x-python",
   "name": "python",
   "nbconvert_exporter": "python",
   "pygments_lexer": "ipython3",
   "version": "3.9.13"
  }
 },
 "nbformat": 4,
 "nbformat_minor": 5
}
